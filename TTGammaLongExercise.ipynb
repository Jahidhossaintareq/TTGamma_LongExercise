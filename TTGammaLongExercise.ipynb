{
 "cells": [
  {
   "cell_type": "markdown",
   "metadata": {},
   "source": [
    "# Running the TTGammaProcessor"
   ]
  },
  {
   "cell_type": "markdown",
   "metadata": {},
   "source": [
    "This cell will copy the test files from their location on eos to your local area. This only needs to be done once!"
   ]
  },
  {
   "cell_type": "code",
   "execution_count": 4,
   "metadata": {},
   "outputs": [
    {
     "name": "stdout",
     "output_type": "stream",
     "text": [
      "[0B/0B][100%][==================================================][0B/s]  \n",
      "Run: [ERROR] Server responded with an error: [3006] File exists\n",
      "\n",
      "[0B/0B][100%][==================================================][0B/s]  \n",
      "Run: [ERROR] Server responded with an error: [3006] File exists\n",
      "\n",
      "[0B/0B][100%][==================================================][0B/s]  \n",
      "Run: [ERROR] Server responded with an error: [3006] File exists\n",
      "\n",
      "[0B/0B][100%][==================================================][0B/s]  \n",
      "Run: [ERROR] Server responded with an error: [3006] File exists\n",
      "\n",
      "[0B/0B][100%][==================================================][0B/s]  \n",
      "Run: [ERROR] Server responded with an error: [3006] File exists\n",
      "\n",
      "[0B/0B][100%][==================================================][0B/s]  \n",
      "Run: [ERROR] Server responded with an error: [3006] File exists\n",
      "\n"
     ]
    }
   ],
   "source": [
    "# #If you have not already done so, you can copy the files to test the code on from here\n",
    "# # ONLY NEEDS TO BE DONE ONCE, CAN BE COMMENTED OUT WHEN YOU \n",
    " !xrdcp root://cmseos.fnal.gov//store/user/cmsdas/2021/long_exercises/TTGamma/TestFiles/TTGamma_1l.root .\n",
    " !xrdcp root://cmseos.fnal.gov//store/user/cmsdas/2021/long_exercises/TTGamma/TestFiles/TTbar_1l.root .\n",
    " !xrdcp root://cmseos.fnal.gov//store/user/cmsdas/2021/long_exercises/TTGamma/TestFiles/WGamma.root .\n",
    " !xrdcp root://cmseos.fnal.gov//store/user/cmsdas/2021/long_exercises/TTGamma/TestFiles/ZGamma.root .\n",
    " !xrdcp root://cmseos.fnal.gov//store/user/cmsdas/2021/long_exercises/TTGamma/TestFiles/W4Jets.root .\n",
    " !xrdcp root://cmseos.fnal.gov//store/user/cmsdas/2021/long_exercises/TTGamma/TestFiles/ZJets.root ."
   ]
  },
  {
   "cell_type": "code",
   "execution_count": 1,
   "metadata": {},
   "outputs": [],
   "source": [
    "%load_ext autoreload\n",
    "from coffea import util, processor\n",
    "from coffea.nanoevents import NanoEventsFactory, NanoAODSchema"
   ]
  },
  {
   "cell_type": "markdown",
   "metadata": {},
   "source": [
    "List of samples to be run on (fileset variable) and a dictionary containing the number of events processed for each sample"
   ]
  },
  {
   "cell_type": "code",
   "execution_count": 2,
   "metadata": {},
   "outputs": [],
   "source": [
    "fileset = {'TTGamma_SingleLept':['TTGamma_1l.root'],\n",
    "           'TTbarPowheg_Semilept':['TTbar_1l.root'],\n",
    "           'W4jets':['W4Jets.root'],\n",
    "           'WGamma_01J_5f':['WGamma.root'],\n",
    "           'ZGamma_01J_5f_lowMass':['ZGamma.root'],\n",
    "           'DYjetsM50':['ZJets.root'],\n",
    "        }\n",
    "\n"
   ]
  },
  {
   "cell_type": "markdown",
   "metadata": {},
   "source": [
    "Run the TTGammaProcessor on the list of files included in fileset.\n",
    "\n",
    "You can specify the chunksize and maximum number of chunks to process from each sample (selecting a small number of events and one chunk will force coffea to process only a subset of the events for quicker debugging)"
   ]
  },
  {
   "cell_type": "code",
   "execution_count": 3,
   "metadata": {},
   "outputs": [
    {
     "data": {
      "application/vnd.jupyter.widget-view+json": {
       "model_id": "35ae575440924c378d6e06b5112794e2",
       "version_major": 2,
       "version_minor": 0
      },
      "text/plain": [
       "Processing:   0%|          | 0/6 [00:00<?, ?chunk/s]"
      ]
     },
     "metadata": {},
     "output_type": "display_data"
    },
    {
     "name": "stderr",
     "output_type": "stream",
     "text": [
      "/uscms/home/jhossain/nobackup/gitexer/TTGamma_LongExercise/ttgenv/lib/python3.6/site-packages/coffea/util.py:91: FutureWarning: In coffea version 0.8, this will be an error.\n",
      "(Set coffea.deprecations_as_errors = True to get a stack trace now.)\n",
      "str: This utility has moved to the `coffea.analysis_tools` subpackage and has new features, check it out!\n",
      "  warnings.warn(message, FutureWarning)\n"
     ]
    },
    {
     "name": "stdout",
     "output_type": "stream",
     "text": [
      "Total time: 8.6 seconds\n",
      "Total rate: 698.8 events / second\n"
     ]
    }
   ],
   "source": [
    "#autoreload forces the kernel to reload the processor to include any new changes\n",
    "%autoreload 2\n",
    "from ttgamma import TTGammaProcessor\n",
    "import awkward as ak\n",
    "\n",
    "import time\n",
    "tstart = time.time()\n",
    "\n",
    "#Run Coffea code using uproot\n",
    "output = processor.run_uproot_job(\n",
    "    fileset,\n",
    "    \"Events\",\n",
    "    TTGammaProcessor(isMC=True),\n",
    "    processor.iterative_executor,\n",
    "    executor_args={'schema': NanoAODSchema,'workers': 4},\n",
    "    chunksize=1000,\n",
    "    maxchunks=1,\n",
    ")\n",
    "\n",
    "elapsed = time.time() - tstart\n",
    "print(\"Total time: %.1f seconds\"%elapsed)\n",
    "print(\"Total rate: %.1f events / second\"%(output['EventCount'].value/elapsed))"
   ]
  },
  {
   "cell_type": "code",
   "execution_count": 19,
   "metadata": {},
   "outputs": [
    {
     "data": {
      "text/plain": [
       "{'all_photon_pt': <Hist (dataset,pt) instance at 0x7f6db9699f60>,\n",
       " 'EventCount': value_accumulator(int, 6008)}"
      ]
     },
     "execution_count": 19,
     "metadata": {},
     "output_type": "execute_result"
    }
   ],
   "source": [
    "output"
   ]
  },
  {
   "cell_type": "code",
   "execution_count": 22,
   "metadata": {},
   "outputs": [
    {
     "ename": "KeyError",
     "evalue": "'pho_pt'",
     "output_type": "error",
     "traceback": [
      "\u001b[0;31m---------------------------------------------------------------------------\u001b[0m",
      "\u001b[0;31mKeyError\u001b[0m                                  Traceback (most recent call last)",
      "\u001b[0;32m<ipython-input-22-d03c5e4cc046>\u001b[0m in \u001b[0;36m<module>\u001b[0;34m\u001b[0m\n\u001b[1;32m      1\u001b[0m \u001b[0;32mfrom\u001b[0m \u001b[0mcoffea\u001b[0m \u001b[0;32mimport\u001b[0m \u001b[0mhist\u001b[0m\u001b[0;34m\u001b[0m\u001b[0m\n\u001b[0;32m----> 2\u001b[0;31m \u001b[0mhist\u001b[0m\u001b[0;34m.\u001b[0m\u001b[0mplot1d\u001b[0m\u001b[0;34m(\u001b[0m\u001b[0moutput\u001b[0m\u001b[0;34m[\u001b[0m\u001b[0;34m'pho_pt'\u001b[0m\u001b[0;34m]\u001b[0m\u001b[0;34m,\u001b[0m\u001b[0moverlay\u001b[0m\u001b[0;34m=\u001b[0m\u001b[0;34m'dataset'\u001b[0m\u001b[0;34m)\u001b[0m\u001b[0;34m\u001b[0m\u001b[0m\n\u001b[0m",
      "\u001b[0;31mKeyError\u001b[0m: 'pho_pt'"
     ]
    }
   ],
   "source": [
    "from coffea import hist\n",
    "hist.plot1d(output['pho_pt'],overlay='dataset')"
   ]
  },
  {
   "cell_type": "markdown",
   "metadata": {},
   "source": [
    "# Accessing Arrays Interactively"
   ]
  },
  {
   "cell_type": "markdown",
   "metadata": {},
   "source": [
    "Below is an example of loading a NanoAOD file interactively. This can be very useful for developing the code, and debugging any issues. Use this area to build your intuition for working with Coffea and awkward arrays!"
   ]
  },
  {
   "cell_type": "code",
   "execution_count": 23,
   "metadata": {},
   "outputs": [],
   "source": [
    "import awkward as ak\n",
    "from coffea.nanoevents import NanoEventsFactory, NanoAODSchema\n",
    "\n",
    "fname = \"./TTGamma_1l.root\"\n",
    "events = NanoEventsFactory.from_root(fname, schemaclass=NanoAODSchema).events()"
   ]
  },
  {
   "cell_type": "markdown",
   "metadata": {},
   "source": [
    "Once you have opened the file, you can explore its contents using the 'fields' syntax"
   ]
  },
  {
   "cell_type": "code",
   "execution_count": 24,
   "metadata": {},
   "outputs": [
    {
     "data": {
      "text/plain": [
       "['run',\n",
       " 'GenMET',\n",
       " 'Flag',\n",
       " 'HLT',\n",
       " 'GenJet',\n",
       " 'LHEPdfWeight',\n",
       " 'Pileup',\n",
       " 'GenPart',\n",
       " 'MET',\n",
       " 'Jet',\n",
       " 'LHEScaleWeight',\n",
       " 'event',\n",
       " 'Electron',\n",
       " 'PSWeight',\n",
       " 'Muon',\n",
       " 'luminosityBlock',\n",
       " 'fixedGridRhoFastjetAll',\n",
       " 'Generator',\n",
       " 'Photon',\n",
       " 'LHEWeight']"
      ]
     },
     "execution_count": 24,
     "metadata": {},
     "output_type": "execute_result"
    }
   ],
   "source": [
    "events.fields"
   ]
  },
  {
   "cell_type": "code",
   "execution_count": 25,
   "metadata": {},
   "outputs": [
    {
     "data": {
      "text/plain": [
       "['eta',\n",
       " 'mass',\n",
       " 'phi',\n",
       " 'pt',\n",
       " 'genPartIdxMother',\n",
       " 'pdgId',\n",
       " 'status',\n",
       " 'statusFlags',\n",
       " 'genPartIdxMotherG',\n",
       " 'distinctParentIdxG',\n",
       " 'childrenIdxG',\n",
       " 'distinctChildrenIdxG']"
      ]
     },
     "execution_count": 25,
     "metadata": {},
     "output_type": "execute_result"
    }
   ],
   "source": [
    "events.GenPart.fields"
   ]
  },
  {
   "cell_type": "markdown",
   "metadata": {},
   "source": [
    "There is also a docstring for each of these variables in NanoAOD, which you can access using '?':"
   ]
  },
  {
   "cell_type": "code",
   "execution_count": 26,
   "metadata": {},
   "outputs": [],
   "source": [
    "events.Jet.rawFactor?"
   ]
  },
  {
   "cell_type": "code",
   "execution_count": 17,
   "metadata": {},
   "outputs": [
    {
     "ename": "NameError",
     "evalue": "name 'triJet' is not defined",
     "output_type": "error",
     "traceback": [
      "\u001b[0;31m---------------------------------------------------------------------------\u001b[0m",
      "\u001b[0;31mNameError\u001b[0m                                 Traceback (most recent call last)",
      "\u001b[0;32m<ipython-input-17-f0f44ff8e0a6>\u001b[0m in \u001b[0;36m<module>\u001b[0;34m\u001b[0m\n\u001b[0;32m----> 1\u001b[0;31m \u001b[0mtriJetPt\u001b[0m \u001b[0;34m=\u001b[0m \u001b[0;34m(\u001b[0m\u001b[0mtriJet\u001b[0m\u001b[0;34m.\u001b[0m\u001b[0mfirst\u001b[0m \u001b[0;34m+\u001b[0m \u001b[0mtriJet\u001b[0m\u001b[0;34m.\u001b[0m\u001b[0msecond\u001b[0m \u001b[0;34m+\u001b[0m \u001b[0mtriJet\u001b[0m\u001b[0;34m.\u001b[0m\u001b[0mthird\u001b[0m\u001b[0;34m)\u001b[0m\u001b[0;34m.\u001b[0m\u001b[0mpt\u001b[0m\u001b[0;34m\u001b[0m\u001b[0m\n\u001b[0m\u001b[1;32m      2\u001b[0m \u001b[0mprint\u001b[0m\u001b[0;34m(\u001b[0m\u001b[0mtriJetPt\u001b[0m\u001b[0;34m)\u001b[0m\u001b[0;34m\u001b[0m\u001b[0m\n",
      "\u001b[0;31mNameError\u001b[0m: name 'triJet' is not defined"
     ]
    }
   ],
   "source": [
    "triJetPt = (triJet.first + triJet.second + triJet.third).pt\n",
    "print(triJetPt)"
   ]
  },
  {
   "cell_type": "code",
   "execution_count": null,
   "metadata": {},
   "outputs": [],
   "source": []
  }
 ],
 "metadata": {
  "kernelspec": {
   "display_name": "ttgenv",
   "language": "python",
   "name": "ttgenv"
  },
  "language_info": {
   "codemirror_mode": {
    "name": "ipython",
    "version": 3
   },
   "file_extension": ".py",
   "mimetype": "text/x-python",
   "name": "python",
   "nbconvert_exporter": "python",
   "pygments_lexer": "ipython3",
   "version": "3.6.5"
  }
 },
 "nbformat": 4,
 "nbformat_minor": 2
}
